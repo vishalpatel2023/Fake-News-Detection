{
 "cells": [
  {
   "cell_type": "code",
   "execution_count": 1,
   "id": "8371233f-4403-4cb8-ae80-d9973c026c01",
   "metadata": {},
   "outputs": [
    {
     "name": "stdout",
     "output_type": "stream",
     "text": [
      "Requirement already satisfied: xgboost in c:\\users\\shib chandan mistry\\appdata\\local\\programs\\python\\python312\\lib\\site-packages (3.0.0)"
     ]
    },
    {
     "name": "stderr",
     "output_type": "stream",
     "text": [
      "\n",
      "[notice] A new release of pip is available: 24.3.1 -> 25.0.1\n",
      "[notice] To update, run: python.exe -m pip install --upgrade pip\n"
     ]
    },
    {
     "name": "stdout",
     "output_type": "stream",
     "text": [
      "\n",
      "Requirement already satisfied: numpy in c:\\users\\shib chandan mistry\\appdata\\local\\programs\\python\\python312\\lib\\site-packages (from xgboost) (2.2.1)\n",
      "Requirement already satisfied: scipy in c:\\users\\shib chandan mistry\\appdata\\local\\programs\\python\\python312\\lib\\site-packages (from xgboost) (1.15.2)\n"
     ]
    }
   ],
   "source": [
    "!pip install xgboost\n"
   ]
  },
  {
   "cell_type": "code",
   "execution_count": 8,
   "id": "68b191db-aedd-48b4-91b7-d80eee2738da",
   "metadata": {},
   "outputs": [
    {
     "name": "stdout",
     "output_type": "stream",
     "text": [
      "🛑 Available Memory: 1.10 GB\n",
      "✅ Jupyter is Running Properly!\n"
     ]
    }
   ],
   "source": [
    "import pandas as pd\n",
    "import numpy as np\n",
    "import os\n",
    "import re\n",
    "import warnings\n",
    "import psutil\n",
    "import logging\n",
    "from sklearn.model_selection import StratifiedKFold, cross_val_score, train_test_split\n",
    "from sklearn.feature_extraction.text import TfidfVectorizer\n",
    "from sklearn.metrics import accuracy_score\n",
    "import xgboost as xgb\n",
    "\n",
    "# Configure Logging\n",
    "logging.basicConfig(level=logging.INFO, force=True)\n",
    "\n",
    "# Check Available Memory\n",
    "print(f\"🛑 Available Memory: {psutil.virtual_memory().available / (1024**3):.2f} GB\", flush=True)\n",
    "\n",
    "# Ignore Warnings for Clean Output\n",
    "warnings.filterwarnings(\"ignore\")\n",
    "\n",
    "# Confirm Execution\n",
    "print(\"✅ Jupyter is Running Properly!\", flush=True)\n"
   ]
  },
  {
   "cell_type": "code",
   "execution_count": 9,
   "id": "117e97f7-0ebd-4b4f-a485-0aa831802585",
   "metadata": {},
   "outputs": [
    {
     "name": "stdout",
     "output_type": "stream",
     "text": [
      "🔍 Checking Dataset Paths...\n",
      "Fake.csv Exists: True\n",
      "True.csv Exists: True\n",
      "✅ Datasets Loaded Successfully!\n"
     ]
    }
   ],
   "source": [
    "# Verify if dataset files exist\n",
    "print(\"🔍 Checking Dataset Paths...\")\n",
    "print(\"Fake.csv Exists:\", os.path.exists(\"../data/raw/Fake.csv\"))\n",
    "print(\"True.csv Exists:\", os.path.exists(\"../data/raw/True.csv\"))\n",
    "\n",
    "# Load Dataset (Limit rows to reduce memory usage)\n",
    "df_fake = pd.read_csv(\"../data/raw/Fake.csv\", nrows=50)\n",
    "df_true = pd.read_csv(\"../data/raw/True.csv\", nrows=50)\n",
    "\n",
    "print(\"✅ Datasets Loaded Successfully!\")\n"
   ]
  },
  {
   "cell_type": "code",
   "execution_count": 10,
   "id": "704dd1e5-df59-4c3d-bb60-3c56e938b9d7",
   "metadata": {},
   "outputs": [
    {
     "name": "stdout",
     "output_type": "stream",
     "text": [
      "                                               title  \\\n",
      "0  Callista Gingrich becomes Trump's envoy to pop...   \n",
      "1  FBI Russia probe helped by Australian diplomat...   \n",
      "2  Federal judge partially lifts Trump's latest r...   \n",
      "3   White House Panics Knowing Flynn Is Going To ...   \n",
      "4   Watch This Awesome Mashup of Michael Flynn Le...   \n",
      "\n",
      "                                                text       subject  \\\n",
      "0  VATICAN CITY (Reuters) - Callista Gingrich, wi...  politicsNews   \n",
      "1  WASHINGTON (Reuters) - Trump campaign adviser ...  politicsNews   \n",
      "2  WASHINGTON (Reuters) - A federal judge in Seat...  politicsNews   \n",
      "3  While Donald Trump has been taking vacations, ...          News   \n",
      "4  Donald Trump s disgraced National Security Adv...          News   \n",
      "\n",
      "                 date  label  \n",
      "0  December 22, 2017       0  \n",
      "1  December 30, 2017       0  \n",
      "2  December 24, 2017       0  \n",
      "3    December 1, 2017      1  \n",
      "4    December 1, 2017      1  \n",
      "✅ Dataset Prepared!\n"
     ]
    }
   ],
   "source": [
    "# Assign Labels\n",
    "df_fake[\"label\"] = 1  # Fake News\n",
    "df_true[\"label\"] = 0  # True News\n",
    "\n",
    "# Merge Both Datasets\n",
    "df = pd.concat([df_fake, df_true]).sample(frac=1, random_state=42).reset_index(drop=True)  # Shuffle Data\n",
    "\n",
    "# Check dataset info\n",
    "print(df.head())\n",
    "print(\"✅ Dataset Prepared!\")\n"
   ]
  },
  {
   "cell_type": "code",
   "execution_count": 11,
   "id": "4eff1b81-5eee-43fa-85cd-5023825f921d",
   "metadata": {},
   "outputs": [
    {
     "name": "stdout",
     "output_type": "stream",
     "text": [
      "✅ Text Preprocessing Completed!\n"
     ]
    }
   ],
   "source": [
    "def clean_text(text):\n",
    "    text = text.lower()  # Convert to lowercase\n",
    "    text = re.sub(r'\\W', ' ', text)  # Remove special characters\n",
    "    text = re.sub(r'\\s+', ' ', text).strip()  # Remove extra spaces\n",
    "    return text\n",
    "\n",
    "# Apply cleaning to the text column\n",
    "df['text'] = df['text'].apply(clean_text)\n",
    "\n",
    "print(\"✅ Text Preprocessing Completed!\")\n"
   ]
  },
  {
   "cell_type": "code",
   "execution_count": 12,
   "id": "576d4987-c458-4834-a0db-6cdc73c24121",
   "metadata": {},
   "outputs": [
    {
     "name": "stdout",
     "output_type": "stream",
     "text": [
      "✅ TF-IDF Transformation Completed! Shape: (100, 500)\n"
     ]
    }
   ],
   "source": [
    "# Initialize TF-IDF Vectorizer\n",
    "vectorizer = TfidfVectorizer(max_features=500)\n",
    "\n",
    "# Transform text data\n",
    "X = vectorizer.fit_transform(df[\"text\"]).toarray()\n",
    "y = df[\"label\"]\n",
    "\n",
    "print(f\"✅ TF-IDF Transformation Completed! Shape: {X.shape}\")\n"
   ]
  },
  {
   "cell_type": "code",
   "execution_count": 13,
   "id": "08a36ae4-89e7-415e-bf7d-7795a2d2590b",
   "metadata": {},
   "outputs": [
    {
     "name": "stdout",
     "output_type": "stream",
     "text": [
      "✅ Data Split Completed!\n"
     ]
    }
   ],
   "source": [
    "# Split Data\n",
    "X_train, X_test, y_train, y_test = train_test_split(X, y, test_size=0.2, random_state=42, stratify=y)\n",
    "\n",
    "print(\"✅ Data Split Completed!\")\n"
   ]
  },
  {
   "cell_type": "code",
   "execution_count": 14,
   "id": "0d7df40e-9495-40bb-99d3-c401c9db8092",
   "metadata": {},
   "outputs": [
    {
     "name": "stdout",
     "output_type": "stream",
     "text": [
      "✅ XGBoost Model Trained!\n"
     ]
    }
   ],
   "source": [
    "# Initialize XGBoost Classifier\n",
    "xgb_model = xgb.XGBClassifier(use_label_encoder=False, eval_metric=\"logloss\")\n",
    "\n",
    "# Train Model\n",
    "xgb_model.fit(X_train, y_train)\n",
    "\n",
    "print(\"✅ XGBoost Model Trained!\")\n"
   ]
  },
  {
   "cell_type": "code",
   "execution_count": 15,
   "id": "8fa2b12d-6e9c-492a-94a4-597f4f849e36",
   "metadata": {},
   "outputs": [
    {
     "name": "stdout",
     "output_type": "stream",
     "text": [
      "📊 Model Accuracy: 1.0000\n"
     ]
    }
   ],
   "source": [
    "# Make Predictions\n",
    "y_pred = xgb_model.predict(X_test)\n",
    "\n",
    "# Evaluate Accuracy\n",
    "accuracy = accuracy_score(y_test, y_pred)\n",
    "print(f\"📊 Model Accuracy: {accuracy:.4f}\")\n"
   ]
  },
  {
   "cell_type": "code",
   "execution_count": 16,
   "id": "c78169ce-530a-4615-a3ed-13acc8969d69",
   "metadata": {},
   "outputs": [
    {
     "name": "stdout",
     "output_type": "stream",
     "text": [
      "\n",
      "🔹 Stratified K-Fold Accuracy Scores: [0.95 1.   1.   1.   1.  ]\n",
      "✅ Mean Accuracy: 0.99\n",
      "📉 Standard Deviation: 0.020000000000000018\n"
     ]
    }
   ],
   "source": [
    "# Initialize Stratified K-Fold with 5 splits\n",
    "skf = StratifiedKFold(n_splits=5, shuffle=True, random_state=42)\n",
    "\n",
    "# Perform Stratified K-Fold Cross Validation\n",
    "scores = cross_val_score(xgb_model, X, y, cv=skf, scoring='accuracy')\n",
    "\n",
    "# Display results\n",
    "print(\"\\n🔹 Stratified K-Fold Accuracy Scores:\", scores)\n",
    "print(\"✅ Mean Accuracy:\", np.mean(scores))\n",
    "print(\"📉 Standard Deviation:\", np.std(scores))\n"
   ]
  },
  {
   "cell_type": "code",
   "execution_count": null,
   "id": "5dd99fdc-c117-42e0-b054-07f265d142d9",
   "metadata": {},
   "outputs": [],
   "source": []
  }
 ],
 "metadata": {
  "kernelspec": {
   "display_name": "Python 3 (ipykernel)",
   "language": "python",
   "name": "python3"
  },
  "language_info": {
   "codemirror_mode": {
    "name": "ipython",
    "version": 3
   },
   "file_extension": ".py",
   "mimetype": "text/x-python",
   "name": "python",
   "nbconvert_exporter": "python",
   "pygments_lexer": "ipython3",
   "version": "3.12.1"
  }
 },
 "nbformat": 4,
 "nbformat_minor": 5
}
