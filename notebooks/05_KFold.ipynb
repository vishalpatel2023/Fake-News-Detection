{
 "cells": [
  {
   "cell_type": "code",
   "execution_count": 1,
   "metadata": {},
   "outputs": [
    {
     "name": "stdout",
     "output_type": "stream",
     "text": [
      "🛑 Available Memory: 2.11 GB\n",
      "✅ Jupyter is running!\n"
     ]
    }
   ],
   "source": [
    "import pandas as pd\n",
    "import numpy as np\n",
    "import warnings\n",
    "import psutil\n",
    "import logging\n",
    "from sklearn.model_selection import StratifiedKFold, cross_val_score\n",
    "from sklearn.feature_extraction.text import TfidfVectorizer\n",
    "from sklearn.svm import SVC\n",
    "from sklearn.naive_bayes import MultinomialNB\n",
    "from sklearn.metrics import accuracy_score\n",
    "\n",
    "# Configure Logging\n",
    "logging.basicConfig(level=logging.INFO)\n",
    "\n",
    "# Check Available Memory\n",
    "print(f\"🛑 Available Memory: {psutil.virtual_memory().available / (1024**3):.2f} GB\", flush=True)\n",
    "\n",
    "# Ignore Warnings for Clean Output\n",
    "warnings.filterwarnings(\"ignore\")\n",
    "\n",
    "# Test if Jupyter is running\n",
    "print(\"✅ Jupyter is running!\")\n"
   ]
  },
  {
   "cell_type": "code",
   "execution_count": 3,
   "metadata": {},
   "outputs": [
    {
     "name": "stdout",
     "output_type": "stream",
     "text": [
      "📊 Dataset Loaded! Total samples: 10000\n"
     ]
    },
    {
     "data": {
      "text/html": [
       "<div>\n",
       "<style scoped>\n",
       "    .dataframe tbody tr th:only-of-type {\n",
       "        vertical-align: middle;\n",
       "    }\n",
       "\n",
       "    .dataframe tbody tr th {\n",
       "        vertical-align: top;\n",
       "    }\n",
       "\n",
       "    .dataframe thead th {\n",
       "        text-align: right;\n",
       "    }\n",
       "</style>\n",
       "<table border=\"1\" class=\"dataframe\">\n",
       "  <thead>\n",
       "    <tr style=\"text-align: right;\">\n",
       "      <th></th>\n",
       "      <th>title</th>\n",
       "      <th>text</th>\n",
       "      <th>subject</th>\n",
       "      <th>date</th>\n",
       "      <th>label</th>\n",
       "    </tr>\n",
       "  </thead>\n",
       "  <tbody>\n",
       "    <tr>\n",
       "      <th>0</th>\n",
       "      <td>Russia says Trump's 'aggressive' stance on Ira...</td>\n",
       "      <td>MOSCOW (Reuters) - Russia said on Friday after...</td>\n",
       "      <td>politicsNews</td>\n",
       "      <td>October 13, 2017</td>\n",
       "      <td>0</td>\n",
       "    </tr>\n",
       "    <tr>\n",
       "      <th>1</th>\n",
       "      <td>Michelle Obama Posed for A Photo, So Conserva...</td>\n",
       "      <td>Recently, Michelle Obama posed for InStyle mag...</td>\n",
       "      <td>News</td>\n",
       "      <td>September 11, 2016</td>\n",
       "      <td>1</td>\n",
       "    </tr>\n",
       "    <tr>\n",
       "      <th>2</th>\n",
       "      <td>Chaffetz Says Screw Congress, Might Leave Bef...</td>\n",
       "      <td>House Oversight Committee Chairman Jason Chaff...</td>\n",
       "      <td>News</td>\n",
       "      <td>April 20, 2017</td>\n",
       "      <td>1</td>\n",
       "    </tr>\n",
       "    <tr>\n",
       "      <th>3</th>\n",
       "      <td>Disabled Americans Fight Back After Being Str...</td>\n",
       "      <td>Throughout America, tens of thousands of peopl...</td>\n",
       "      <td>News</td>\n",
       "      <td>September 6, 2016</td>\n",
       "      <td>1</td>\n",
       "    </tr>\n",
       "    <tr>\n",
       "      <th>4</th>\n",
       "      <td>Trump Campaign Chair Says Racism Didn’t Exist...</td>\n",
       "      <td>President Obama is right   it appears the peop...</td>\n",
       "      <td>News</td>\n",
       "      <td>September 22, 2016</td>\n",
       "      <td>1</td>\n",
       "    </tr>\n",
       "  </tbody>\n",
       "</table>\n",
       "</div>"
      ],
      "text/plain": [
       "                                               title  \\\n",
       "0  Russia says Trump's 'aggressive' stance on Ira...   \n",
       "1   Michelle Obama Posed for A Photo, So Conserva...   \n",
       "2   Chaffetz Says Screw Congress, Might Leave Bef...   \n",
       "3   Disabled Americans Fight Back After Being Str...   \n",
       "4   Trump Campaign Chair Says Racism Didn’t Exist...   \n",
       "\n",
       "                                                text       subject  \\\n",
       "0  MOSCOW (Reuters) - Russia said on Friday after...  politicsNews   \n",
       "1  Recently, Michelle Obama posed for InStyle mag...          News   \n",
       "2  House Oversight Committee Chairman Jason Chaff...          News   \n",
       "3  Throughout America, tens of thousands of peopl...          News   \n",
       "4  President Obama is right   it appears the peop...          News   \n",
       "\n",
       "                 date  label  \n",
       "0   October 13, 2017       0  \n",
       "1  September 11, 2016      1  \n",
       "2      April 20, 2017      1  \n",
       "3   September 6, 2016      1  \n",
       "4  September 22, 2016      1  "
      ]
     },
     "execution_count": 3,
     "metadata": {},
     "output_type": "execute_result"
    }
   ],
   "source": [
    "# Load only 5000 rows from each dataset to reduce memory usage\n",
    "df_fake = pd.read_csv(\"../data/raw/Fake.csv\", nrows=5000)\n",
    "df_true = pd.read_csv(\"../data/raw/True.csv\", nrows=5000)\n",
    "\n",
    "# Assign labels (1 = Fake, 0 = True)\n",
    "df_fake['label'] = 1\n",
    "df_true['label'] = 0\n",
    "\n",
    "# Combine both datasets\n",
    "df = pd.concat([df_fake, df_true]).reset_index(drop=True)\n",
    "\n",
    "# Shuffle dataset for better distribution\n",
    "df = df.sample(frac=1, random_state=42).reset_index(drop=True)\n",
    "\n",
    "# Check dataset size\n",
    "print(f\"📊 Dataset Loaded! Total samples: {len(df)}\")\n",
    "df.head()\n"
   ]
  },
  {
   "cell_type": "code",
   "execution_count": 5,
   "metadata": {},
   "outputs": [
    {
     "name": "stdout",
     "output_type": "stream",
     "text": [
      "✅ Text Preprocessing Completed!\n"
     ]
    }
   ],
   "source": [
    "import re  # Ensure re is imported\n",
    "\n",
    "def clean_text(text):\n",
    "    text = text.lower()  # Convert to lowercase\n",
    "    text = re.sub(r'\\W', ' ', text)  # Remove special characters\n",
    "    text = re.sub(r'\\s+', ' ', text).strip()  # Remove extra spaces\n",
    "    return text\n",
    "\n",
    "# Apply cleaning to the text column\n",
    "df['text'] = df['text'].apply(clean_text)\n",
    "\n",
    "print(\"✅ Text Preprocessing Completed!\")\n"
   ]
  },
  {
   "cell_type": "code",
   "execution_count": null,
   "metadata": {},
   "outputs": [
    {
     "name": "stdout",
     "output_type": "stream",
     "text": [
      "✅ TF-IDF Transformation Completed! Shape: (10000, 5000)\n"
     ]
    }
   ],
   "source": [
    "# Reduce features to 5000 to prevent memory issues\n",
    "vectorizer = TfidfVectorizer(max_features=5000)\n",
    "\n",
    "# Convert text into numerical format\n",
    "X = vectorizer.fit_transform(df['text'])\n",
    "y = df['label']\n",
    "\n",
    "print(f\"✅ TF-IDF Transformation Completed! Shape: {X.shape}\")\n"
   ]
  },
  {
   "cell_type": "code",
   "execution_count": 7,
   "metadata": {},
   "outputs": [
    {
     "name": "stdout",
     "output_type": "stream",
     "text": [
      "✅ TF-IDF Transformation Completed! Shape: (10000, 5000)\n"
     ]
    }
   ],
   "source": [
    "# Reduce features to 5000 to prevent memory issues\n",
    "vectorizer = TfidfVectorizer(max_features=5000)\n",
    "\n",
    "# Convert text into numerical format\n",
    "X = vectorizer.fit_transform(df['text'])\n",
    "y = df['label']\n",
    "\n",
    "print(f\"✅ TF-IDF Transformation Completed! Shape: {X.shape}\")\n"
   ]
  },
  {
   "cell_type": "code",
   "execution_count": 8,
   "metadata": {},
   "outputs": [
    {
     "name": "stdout",
     "output_type": "stream",
     "text": [
      "\n",
      "🔹 Stratified K-Fold Accuracy Scores: [0.9975 0.9965 0.9985 0.999  0.9955]\n",
      "✅ Mean Accuracy: 0.9974000000000001\n",
      "📉 Standard Deviation: 0.001280624847486557\n"
     ]
    }
   ],
   "source": [
    "# Initialize Stratified K-Fold with 5 splits\n",
    "skf = StratifiedKFold(n_splits=5, shuffle=True, random_state=42)\n",
    "\n",
    "# Define SVM Model\n",
    "svm_model = SVC(kernel='linear')\n",
    "\n",
    "# Perform Stratified K-Fold Cross Validation\n",
    "scores = cross_val_score(svm_model, X, y, cv=skf, scoring='accuracy')\n",
    "\n",
    "# Display results\n",
    "print(\"\\n🔹 Stratified K-Fold Accuracy Scores:\", scores)\n",
    "print(\"✅ Mean Accuracy:\", np.mean(scores))\n",
    "print(\"📉 Standard Deviation:\", np.std(scores))\n"
   ]
  }
 ],
 "metadata": {
  "kernelspec": {
   "display_name": "Python 3",
   "language": "python",
   "name": "python3"
  },
  "language_info": {
   "codemirror_mode": {
    "name": "ipython",
    "version": 3
   },
   "file_extension": ".py",
   "mimetype": "text/x-python",
   "name": "python",
   "nbconvert_exporter": "python",
   "pygments_lexer": "ipython3",
   "version": "3.11.9"
  }
 },
 "nbformat": 4,
 "nbformat_minor": 4
}
